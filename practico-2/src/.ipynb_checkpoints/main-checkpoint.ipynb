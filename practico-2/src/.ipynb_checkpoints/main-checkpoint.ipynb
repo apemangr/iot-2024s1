{
 "cells": [
  {
   "cell_type": "code",
   "execution_count": null,
   "metadata": {},
   "outputs": [],
   "source": [
    "\n",
    "\n",
    "\n",
    "\n",
    "\n"
   ]
  },
  {
   "cell_type": "markdown",
   "metadata": {},
   "source": [
    "## Importacion de librerias"
   ]
  },
  {
   "cell_type": "code",
   "execution_count": null,
   "metadata": {},
   "outputs": [],
   "source": []
  },
  {
   "cell_type": "code",
   "execution_count": null,
   "metadata": {},
   "outputs": [],
   "source": [
    "post.transaction(\"\"\"CREATE TABLE IF NOT EXISTS node_data(\n",
    "\t                 id serial Primary Key,\n",
    "\t                 sampletime TIME\n",
    "\t                    )\"\"\")\n",
    "                    \n",
    "post.transaction(\"\"\"CREATE TABLE IF NOT EXISTS temperature (\n",
    "                     id serial Primary Key,\n",
    "\t                 node_data_id INTEGER NOT NULL,\n",
    "\t                 temperature DECIMAL(5,2),\n",
    "\t                 alarm BOOL,\n",
    "\t                 CONSTRAINT fk_node_data\n",
    "\t                 FOREIGN KEY (node_data_id)\n",
    "\t                 REFERENCES node_data (id)\n",
    "\t                 ON DELETE CASCADE\n",
    "            \t     ON UPDATE CASCADE\n",
    "                    )\"\"\")\n",
    "        \n",
    "post.transaction(\"\"\"CREATE TABLE IF NOT EXISTS humidity (\n",
    "                     id serial Primary Key,\n",
    "\t                 node_data_id INTEGER NOT NULL,\n",
    "\t                 humidity DECIMAL(5,2),\n",
    "\t                 alarm BOOL,\n",
    "\t                 CONSTRAINT fk_node_data\n",
    "\t                 FOREIGN KEY (node_data_id)\n",
    "\t                 REFERENCES node_data (id)\n",
    "\t                 ON DELETE CASCADE\n",
    "            \t     ON UPDATE CASCADE\n",
    "                    )\"\"\")"
   ]
  },
  {
   "cell_type": "code",
   "execution_count": null,
   "metadata": {},
   "outputs": [],
   "source": [
    "\n",
    "from database.connection import * \n",
    "from service import Service\n",
    "from entities.node import * \n",
    "from other.extract_data import *\n",
    "import serial\n",
    "\n",
    "servicio = Service(post)\n",
    "servicio.getAll()"
   ]
  }
 ],
 "metadata": {
  "language_info": {
   "name": "python"
  }
 },
 "nbformat": 4,
 "nbformat_minor": 2
}
